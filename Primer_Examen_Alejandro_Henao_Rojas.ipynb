{
 "cells": [
  {
   "cell_type": "code",
   "execution_count": 2,
   "id": "764ca92b-d4a6-4fcf-b536-8145ce5d8079",
   "metadata": {},
   "outputs": [],
   "source": [
    "import numpy as np\n",
    "import pandas as pd\n",
    "from scipy import optimize\n",
    "import matplotlib.pyplot as plt"
   ]
  },
  {
   "cell_type": "markdown",
   "id": "d38551c8-40dd-466a-8197-1d03d87b477a",
   "metadata": {},
   "source": [
    "# Punto 1 \n",
    "A) Use el API de institutions para extraer la lista de instituciones del país"
   ]
  },
  {
   "cell_type": "code",
   "execution_count": 142,
   "id": "d697e7d4-0561-47c5-ba35-7b53177caba5",
   "metadata": {},
   "outputs": [
    {
     "data": {
      "text/plain": [
       "('greece', 85)"
      ]
     },
     "execution_count": 142,
     "metadata": {},
     "output_type": "execute_result"
    }
   ],
   "source": [
    "df = pd.read_json('data.json')\n",
    "rand = np.random.randint(0,248) \n",
    "pais = df.loc[rand,'Name'].lower().replace(\" \", \"\")\n",
    "URL = 'https://inspirehep.net/api/institutions?q=' + pais"
   ]
  },
  {
   "cell_type": "code",
   "execution_count": 148,
   "id": "6fdc3889-258c-4056-8585-4dc2bd8799ba",
   "metadata": {},
   "outputs": [
    {
     "name": "stdout",
     "output_type": "stream",
     "text": [
      "legacy_ICN: American Coll. of Greece\n"
     ]
    }
   ],
   "source": [
    "df = pd.read_json(URL)\n",
    "\n",
    "if df['hits']['hits'][0]['metadata']['number_of_papers']>0:\n",
    "    print ('legacy_ICN:',df['hits']['hits'][0]['metadata']['legacy_ICN'])"
   ]
  },
  {
   "cell_type": "markdown",
   "id": "c0d88357-d8ae-4249-9bd4-78948e187304",
   "metadata": {},
   "source": [
    "B) Con el API de literatura obtenga el JSON con los artículos de menos de 10 autores usando el \"legacy_ICN\" de la siguiente manera\n"
   ]
  },
  {
   "cell_type": "code",
   "execution_count": 154,
   "id": "ee1999f2-5951-4d27-b40e-8c9c42946053",
   "metadata": {},
   "outputs": [
    {
     "data": {
      "text/plain": [
       "7"
      ]
     },
     "execution_count": 154,
     "metadata": {},
     "output_type": "execute_result"
    }
   ],
   "source": [
    "df = pd.read_json('literature.json')\n",
    "df['hits']['hits'][0]['metadata']['author_count']"
   ]
  },
  {
   "cell_type": "code",
   "execution_count": 178,
   "id": "f5ca6a99-6f0a-4a39-ac76-68389d740955",
   "metadata": {},
   "outputs": [
    {
     "data": {
      "text/plain": [
       "'2001'"
      ]
     },
     "execution_count": 178,
     "metadata": {},
     "output_type": "execute_result"
    }
   ],
   "source": [
    "df = pd.read_json('1010271.json')\n",
    "df['metadata']['name']                        #Nombre\n",
    "df['metadata']['email_addresses']             #Email\n",
    "df['metadata']['positions'][1]['rank']        #rank\n",
    "df['metadata']['positions'][1]['institution'] #institucion\n",
    "df['metadata']['positions'][1]['start_date']  #fecha de inicio\n",
    "df['metadata']['positions'][1]['end_date']    #fecha de terminacion "
   ]
  },
  {
   "cell_type": "markdown",
   "id": "a5cb411b-4142-46d2-8a9a-9dd2ced200f8",
   "metadata": {},
   "source": [
    "# Punto 2 "
   ]
  },
  {
   "cell_type": "markdown",
   "id": "fccaae3f-0f91-4c90-9bfb-1a85a244d80a",
   "metadata": {},
   "source": [
    "#### A) Genere un polinomio de numpy con 3 raices reales aleatorias entre los dos últimos números diferentes de su identificación (Ejemplo: 98554575 → 3 raices reales aleatorias  entre 5 y 7 )\n",
    "\n",
    "Id: x.xxx.xxx.x37"
   ]
  },
  {
   "cell_type": "code",
   "execution_count": 519,
   "id": "1a537ac0-bf05-4237-8f4a-375d99597c80",
   "metadata": {},
   "outputs": [],
   "source": [
    "r = np.random.uniform(3,7,3) \n",
    "p = np.poly1d(np.poly(r))   "
   ]
  },
  {
   "cell_type": "markdown",
   "id": "bf8d4698-7f0c-4f52-a091-2fe42fac9cdb",
   "metadata": {},
   "source": [
    "#### B) Encuentre los puntos críticos del polinomio: las raices de la derivada el polinomio."
   ]
  },
  {
   "cell_type": "code",
   "execution_count": 585,
   "id": "3509ac34-850a-4a8f-8f3b-6f6c7c74759d",
   "metadata": {},
   "outputs": [
    {
     "name": "stdout",
     "output_type": "stream",
     "text": [
      "[6.25683275 4.21105995]\n"
     ]
    }
   ],
   "source": [
    "dp = np.polyder(p) #Derivada del polinomio \n",
    "crit_p = dp.r      #Raices de la derivada \n",
    "d2p = np.polyder(p,m=2) #Derivada del polinomio \n",
    "print(crit_p)"
   ]
  },
  {
   "cell_type": "markdown",
   "id": "f41872b9-d8f5-4e01-9001-c5f965e5441d",
   "metadata": {},
   "source": [
    "#### C) Con alguna de los métodos para encontrar mínimos compruebe que el punto crítico de menor (mayor) valor corresponde al mínimo (máximo) global del polinomio"
   ]
  },
  {
   "cell_type": "code",
   "execution_count": 590,
   "id": "46a04786-9ac3-418b-a8c4-970a4906863a",
   "metadata": {},
   "outputs": [
    {
     "name": "stdout",
     "output_type": "stream",
     "text": [
      "Punto crítico: 4.2110599538624545 \n",
      " \t Eval. segunda derivada:  -6.137318399077795\n",
      "Punto crítico: 6.256832753555052 \n",
      " \t Eval. segunda derivada:  6.137318399077792\n"
     ]
    }
   ],
   "source": [
    "print('Punto crítico:', np.min(dp.r), '\\n \\t Eval. segunda derivada: ', d2p(np.min(dp.r)))\n",
    "print('Punto crítico:', np.max(dp.r), '\\n \\t Eval. segunda derivada: ', d2p(np.max(dp.r)))"
   ]
  },
  {
   "cell_type": "markdown",
   "id": "dc19221f-e5a6-4b09-b7e4-f42346fc2a46",
   "metadata": {},
   "source": [
    "El primer punto crítico es un máximo, pues $p''(x_c) < 0$, es un maximo global \n",
    "\n",
    "El primer punto crítico es un mínimo, pues $p''(x_c) > 0$, es un mínimo global "
   ]
  },
  {
   "cell_type": "markdown",
   "id": "05236526-b89c-4352-a84d-e3c7c0d3ee6c",
   "metadata": {},
   "source": [
    "#### D) Grafique el polinomío inclueyendo los puntos asociados a las raices."
   ]
  },
  {
   "cell_type": "code",
   "execution_count": 602,
   "id": "941da6f0-d104-4cbb-88a2-b54395d47e2d",
   "metadata": {},
   "outputs": [
    {
     "data": {
      "image/png": "[encoded data removed]",
      "text/plain": [
       "<Figure size 936x360 with 1 Axes>"
      ]
     },
     "metadata": {
      "needs_background": "light"
     },
     "output_type": "display_data"
    }
   ],
   "source": [
    "x = np.linspace(np.min(p.r)-.4,np.max(p.r)+.4,100)\n",
    "plt.figure(figsize = (13,5))\n",
    "plt.plot(x, p(x), label = 'Polinomio')\n",
    "plt.plot(x, dp(x), label = 'Derivada' , alpha = .7)\n",
    "plt.plot([np.min(p.r)-.4,np.max(p.r)+.4], [0,0], 'C1--')\n",
    "plt.plot([np.min(crit_p),np.max(crit_p)], [p(np.min(crit_p)), p(np.max(crit_p))], 'C2o', label = 'Puntos críticos')\n",
    "# plt.plot(float(d2p.r), p(float(d2p.r)) , 'C3o', label = 'Punto de inflexión')\n",
    "plt.plot(p.r,np.zeros(len(p.r)), 'C6o', label = 'Raices')\n",
    "plt.xlabel('x', size = 15)\n",
    "plt.ylabel('p(x)', size = 15)\n",
    "plt.legend()\n",
    "plt.grid()"
   ]
  }
 ],
 "metadata": {
  "kernelspec": {
   "display_name": "Python 3 (ipykernel)",
   "language": "python",
   "name": "python3"
  },
  "language_info": {
   "codemirror_mode": {
    "name": "ipython",
    "version": 3
   },
   "file_extension": ".py",
   "mimetype": "text/x-python",
   "name": "python",
   "nbconvert_exporter": "python",
   "pygments_lexer": "ipython3",
   "version": "3.9.12"
  }
 },
 "nbformat": 4,
 "nbformat_minor": 5
}
